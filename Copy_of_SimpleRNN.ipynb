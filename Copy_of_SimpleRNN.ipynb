{
  "nbformat": 4,
  "nbformat_minor": 0,
  "metadata": {
    "colab": {
      "name": "Copy of SimpleRNN.ipynb",
      "provenance": [],
      "collapsed_sections": [],
      "include_colab_link": true
    },
    "kernelspec": {
      "name": "python3",
      "display_name": "Python 3"
    },
    "accelerator": "GPU"
  },
  "cells": [
    {
      "cell_type": "markdown",
      "metadata": {
        "id": "view-in-github",
        "colab_type": "text"
      },
      "source": [
        "<a href=\"https://colab.research.google.com/github/sharmin91/BanglaKeyphraseExtraction/blob/master/Copy_of_SimpleRNN.ipynb\" target=\"_parent\"><img src=\"https://colab.research.google.com/assets/colab-badge.svg\" alt=\"Open In Colab\"/></a>"
      ]
    },
    {
      "cell_type": "code",
      "metadata": {
        "id": "CxgflUq6g-4b",
        "colab_type": "code",
        "outputId": "51a2a17d-046f-425d-963f-0d47fcdeea65",
        "colab": {
          "base_uri": "https://localhost:8080/",
          "height": 136
        }
      },
      "source": [
        "!git clone https://github.com/sharmin91/BanglaKeyphraseExtraction.git"
      ],
      "execution_count": 1,
      "outputs": [
        {
          "output_type": "stream",
          "text": [
            "Cloning into 'BanglaKeyphraseExtraction'...\n",
            "remote: Enumerating objects: 3508, done.\u001b[K\n",
            "remote: Counting objects: 100% (3508/3508), done.\u001b[K\n",
            "remote: Compressing objects: 100% (3488/3488), done.\u001b[K\n",
            "remote: Total 3508 (delta 40), reused 3441 (delta 13), pack-reused 0\u001b[K\n",
            "Receiving objects: 100% (3508/3508), 22.63 MiB | 16.89 MiB/s, done.\n",
            "Resolving deltas: 100% (40/40), done.\n"
          ],
          "name": "stdout"
        }
      ]
    },
    {
      "cell_type": "code",
      "metadata": {
        "id": "x_PpR7ec2GIH",
        "colab_type": "code",
        "outputId": "5a26ca3e-f080-4238-f798-f7d83cbb9964",
        "colab": {
          "base_uri": "https://localhost:8080/",
          "height": 357
        }
      },
      "source": [
        "!mv -v BanglaKeyphraseExtraction/* ."
      ],
      "execution_count": 2,
      "outputs": [
        {
          "output_type": "stream",
          "text": [
            "renamed 'BanglaKeyphraseExtraction/AnswerRNN2.py' -> './AnswerRNN2.py'\n",
            "renamed 'BanglaKeyphraseExtraction/AnswerRNN3.py' -> './AnswerRNN3.py'\n",
            "renamed 'BanglaKeyphraseExtraction/AnswerRNN.py' -> './AnswerRNN.py'\n",
            "renamed 'BanglaKeyphraseExtraction/bengali-word-embedding.txt' -> './bengali-word-embedding.txt'\n",
            "renamed 'BanglaKeyphraseExtraction/data' -> './data'\n",
            "renamed 'BanglaKeyphraseExtraction/dataset.csv' -> './dataset.csv'\n",
            "renamed 'BanglaKeyphraseExtraction/DatasetPatternAnalyzer.py' -> './DatasetPatternAnalyzer.py'\n",
            "renamed 'BanglaKeyphraseExtraction/eval' -> './eval'\n",
            "renamed 'BanglaKeyphraseExtraction/figures' -> './figures'\n",
            "renamed 'BanglaKeyphraseExtraction/get_glove.sh' -> './get_glove.sh'\n",
            "renamed 'BanglaKeyphraseExtraction/LICENSE' -> './LICENSE'\n",
            "renamed 'BanglaKeyphraseExtraction/MergeRNN2.py' -> './MergeRNN2.py'\n",
            "renamed 'BanglaKeyphraseExtraction/MergeRNN.py' -> './MergeRNN.py'\n",
            "renamed 'BanglaKeyphraseExtraction/nlp' -> './nlp'\n",
            "renamed 'BanglaKeyphraseExtraction/RandomnessDetect.py' -> './RandomnessDetect.py'\n",
            "renamed 'BanglaKeyphraseExtraction/README.md' -> './README.md'\n",
            "renamed 'BanglaKeyphraseExtraction/requirements.txt' -> './requirements.txt'\n",
            "renamed 'BanglaKeyphraseExtraction/runcnn.sh' -> './runcnn.sh'\n",
            "renamed 'BanglaKeyphraseExtraction/SimpleRNN.py' -> './SimpleRNN.py'\n",
            "renamed 'BanglaKeyphraseExtraction/utils' -> './utils'\n"
          ],
          "name": "stdout"
        }
      ]
    },
    {
      "cell_type": "code",
      "metadata": {
        "id": "kh9S1go8sUOD",
        "colab_type": "code",
        "outputId": "082d1d76-827b-4047-f1c3-420acc9a813f",
        "colab": {
          "base_uri": "https://localhost:8080/",
          "height": 122
        }
      },
      "source": [
        "from google.colab import drive\n",
        "drive.mount('/content/gdrive')"
      ],
      "execution_count": 3,
      "outputs": [
        {
          "output_type": "stream",
          "text": [
            "Go to this URL in a browser: https://accounts.google.com/o/oauth2/auth?client_id=947318989803-6bn6qk8qdgf4n4g3pfee6491hc0brc4i.apps.googleusercontent.com&redirect_uri=urn%3aietf%3awg%3aoauth%3a2.0%3aoob&response_type=code&scope=email%20https%3a%2f%2fwww.googleapis.com%2fauth%2fdocs.test%20https%3a%2f%2fwww.googleapis.com%2fauth%2fdrive%20https%3a%2f%2fwww.googleapis.com%2fauth%2fdrive.photos.readonly%20https%3a%2f%2fwww.googleapis.com%2fauth%2fpeopleapi.readonly\n",
            "\n",
            "Enter your authorization code:\n",
            "··········\n",
            "Mounted at /content/gdrive\n"
          ],
          "name": "stdout"
        }
      ]
    },
    {
      "cell_type": "code",
      "metadata": {
        "id": "n4fETQOvsdVc",
        "colab_type": "code",
        "outputId": "280349a5-9481-4d8f-9752-b09296486d51",
        "colab": {
          "base_uri": "https://localhost:8080/",
          "height": 34
        }
      },
      "source": [
        "import pandas as pd\n",
        "import numpy as np\n",
        "import os\n",
        "from pathlib import Path\n",
        "\n",
        "path = Path(os.getcwd())\n",
        "from google.colab import drive\n",
        "drive.mount('/content/drive')"
      ],
      "execution_count": 4,
      "outputs": [
        {
          "output_type": "stream",
          "text": [
            "Mounted at /content/drive\n"
          ],
          "name": "stdout"
        }
      ]
    },
    {
      "cell_type": "code",
      "metadata": {
        "id": "Ns8JFU-b2xwv",
        "colab_type": "code",
        "outputId": "a525c716-2c12-43e3-fc0b-c58c3c260ee2",
        "colab": {
          "base_uri": "https://localhost:8080/",
          "height": 119
        }
      },
      "source": [
        "import nltk\n",
        "nltk.download('punkt')\n",
        "nltk.download('averaged_perceptron_tagger')"
      ],
      "execution_count": 5,
      "outputs": [
        {
          "output_type": "stream",
          "text": [
            "[nltk_data] Downloading package punkt to /root/nltk_data...\n",
            "[nltk_data]   Unzipping tokenizers/punkt.zip.\n",
            "[nltk_data] Downloading package averaged_perceptron_tagger to\n",
            "[nltk_data]     /root/nltk_data...\n",
            "[nltk_data]   Unzipping taggers/averaged_perceptron_tagger.zip.\n"
          ],
          "name": "stdout"
        },
        {
          "output_type": "execute_result",
          "data": {
            "text/plain": [
              "True"
            ]
          },
          "metadata": {
            "tags": []
          },
          "execution_count": 5
        }
      ]
    },
    {
      "cell_type": "code",
      "metadata": {
        "id": "t9Jys2C425mP",
        "colab_type": "code",
        "outputId": "693da0ab-11bf-4f02-8d07-8e5bbbdce016",
        "colab": {
          "base_uri": "https://localhost:8080/",
          "height": 357
        }
      },
      "source": [
        "!wget http://nlp.stanford.edu/data/glove.6B.zip"
      ],
      "execution_count": 6,
      "outputs": [
        {
          "output_type": "stream",
          "text": [
            "--2019-12-30 21:27:47--  http://nlp.stanford.edu/data/glove.6B.zip\n",
            "Resolving nlp.stanford.edu (nlp.stanford.edu)... 171.64.67.140\n",
            "Connecting to nlp.stanford.edu (nlp.stanford.edu)|171.64.67.140|:80... connected.\n",
            "HTTP request sent, awaiting response... 302 Found\n",
            "Location: https://nlp.stanford.edu/data/glove.6B.zip [following]\n",
            "--2019-12-30 21:27:47--  https://nlp.stanford.edu/data/glove.6B.zip\n",
            "Connecting to nlp.stanford.edu (nlp.stanford.edu)|171.64.67.140|:443... connected.\n",
            "HTTP request sent, awaiting response... 301 Moved Permanently\n",
            "Location: http://downloads.cs.stanford.edu/nlp/data/glove.6B.zip [following]\n",
            "--2019-12-30 21:27:48--  http://downloads.cs.stanford.edu/nlp/data/glove.6B.zip\n",
            "Resolving downloads.cs.stanford.edu (downloads.cs.stanford.edu)... 171.64.64.22\n",
            "Connecting to downloads.cs.stanford.edu (downloads.cs.stanford.edu)|171.64.64.22|:80... connected.\n",
            "HTTP request sent, awaiting response... 200 OK\n",
            "Length: 862182613 (822M) [application/zip]\n",
            "Saving to: ‘glove.6B.zip’\n",
            "\n",
            "glove.6B.zip        100%[===================>] 822.24M  2.12MB/s    in 6m 30s  \n",
            "\n",
            "2019-12-30 21:34:18 (2.11 MB/s) - ‘glove.6B.zip’ saved [862182613/862182613]\n",
            "\n"
          ],
          "name": "stdout"
        }
      ]
    },
    {
      "cell_type": "code",
      "metadata": {
        "id": "ZSigtxiElLU-",
        "colab_type": "code",
        "outputId": "8c4e546b-ce06-4d20-a27a-913b25740ff9",
        "colab": {
          "base_uri": "https://localhost:8080/",
          "height": 102
        }
      },
      "source": [
        "!unzip glove.6B.zip -d ."
      ],
      "execution_count": 7,
      "outputs": [
        {
          "output_type": "stream",
          "text": [
            "Archive:  glove.6B.zip\n",
            "  inflating: ./glove.6B.50d.txt      \n",
            "  inflating: ./glove.6B.100d.txt     \n",
            "  inflating: ./glove.6B.200d.txt     \n",
            "  inflating: ./glove.6B.300d.txt     \n"
          ],
          "name": "stdout"
        }
      ]
    },
    {
      "cell_type": "code",
      "metadata": {
        "id": "mK7seWCAl8Ts",
        "colab_type": "code",
        "colab": {
          "base_uri": "https://localhost:8080/",
          "height": 54
        },
        "outputId": "654f3051-dc38-4a43-f14e-efdea47e3876"
      },
      "source": [
        "from google.colab import drive\n",
        "drive.mount('/content/drive')"
      ],
      "execution_count": 8,
      "outputs": [
        {
          "output_type": "stream",
          "text": [
            "Drive already mounted at /content/drive; to attempt to forcibly remount, call drive.mount(\"/content/drive\", force_remount=True).\n"
          ],
          "name": "stdout"
        }
      ]
    },
    {
      "cell_type": "code",
      "metadata": {
        "id": "3Xndngm4siyo",
        "colab_type": "code",
        "outputId": "8d2c3f3a-5c8b-4012-f725-7fb1820023eb",
        "colab": {
          "base_uri": "https://localhost:8080/",
          "height": 1000
        }
      },
      "source": [
        "import numpy as np\n",
        "import random as rn\n",
        "\n",
        "# The below is necessary in Python 3.2.3 onwards to\n",
        "# have reproducible behavior for certain hash-based operations.\n",
        "# See these references for further details:\n",
        "# https://docs.python.org/3.4/using/cmdline.html#envvar-PYTHONHASHSEED\n",
        "# https://github.com/fchollet/keras/issues/2280#issuecomment-306959926\n",
        "\n",
        "import os\n",
        "\n",
        "# os.environ['PYTHONHASHSEED'] = '0'\n",
        "\n",
        "# The below is necessary for starting Numpy generated random numbers\n",
        "# in a well-defined initial state.\n",
        "\n",
        "np.random.seed(421)\n",
        "\n",
        "# The below is necessary for starting core Python generated random numbers\n",
        "# in a well-defined state.\n",
        "\n",
        "rn.seed(123451)\n",
        "\n",
        "import logging\n",
        "\n",
        "from keras import regularizers\n",
        "from keras.layers import Bidirectional, Dense, Dropout, Embedding, LSTM, TimeDistributed\n",
        "from keras.models import Sequential, load_model\n",
        "\n",
        "from data.datasets import *\n",
        "from eval import keras_metrics, metrics\n",
        "from nlp import tokenizer as tk\n",
        "from utils import info, preprocessing, postprocessing, plots\n",
        "\n",
        "# LOGGING CONFIGURATION\n",
        "\n",
        "logging.basicConfig(\n",
        "    format='%(asctime)s\\t%(levelname)s\\t%(message)s',\n",
        "    level=logging.DEBUG)\n",
        "\n",
        "info.log_versions()\n",
        "\n",
        "# END LOGGING CONFIGURATION\n",
        "\n",
        "# GLOBAL VARIABLES\n",
        "\n",
        "SAVE_MODEL = False\n",
        "MODEL_PATH = \"models/simplernn.h5\"\n",
        "SHOW_PLOTS = False\n",
        "\n",
        "# END GLOBAL VARIABLES\n",
        "\n",
        "# Dataset and hyperparameters for each dataset\n",
        "\n",
        "DATASET = Bangla\n",
        "\n",
        "if DATASET == Semeval2017:\n",
        "    tokenizer = tk.tokenizers.nltk\n",
        "    DATASET_FOLDER = \"data/Semeval2017\"\n",
        "    MAX_DOCUMENT_LENGTH = 400\n",
        "    MAX_VOCABULARY_SIZE = 20000\n",
        "    EMBEDDINGS_SIZE = 50\n",
        "    BATCH_SIZE = 32\n",
        "    EPOCHS = 30\n",
        "    KP_WEIGHT = 10\n",
        "    STEM_MODE = metrics.stemMode.both\n",
        "    STEM_TEST = False\n",
        "elif DATASET == Bangla:\n",
        "    tokenizer = tk.tokenizers.nltk\n",
        "    DATASET_FOLDER = \"data/Bangla\"\n",
        "    MAX_DOCUMENT_LENGTH = 550\n",
        "    MAX_VOCABULARY_SIZE = 20000\n",
        "    EMBEDDINGS_SIZE = 300\n",
        "    BATCH_SIZE = 32\n",
        "    EPOCHS = 28\n",
        "    KP_WEIGHT = 10\n",
        "    STEM_MODE = metrics.stemMode.none\n",
        "    STEM_TEST = False\n",
        "elif DATASET == Marujo2012:\n",
        "    tokenizer = tk.tokenizers.nltk\n",
        "    DATASET_FOLDER = \"data/Marujo2012\"\n",
        "    MAX_DOCUMENT_LENGTH = 7000\n",
        "    MAX_VOCABULARY_SIZE = 20000\n",
        "    EMBEDDINGS_SIZE = 50\n",
        "    BATCH_SIZE = 16\n",
        "    EPOCHS = 10\n",
        "    KP_WEIGHT = 10\n",
        "    STEM_MODE = metrics.stemMode.both\n",
        "    STEM_TEST = False\n",
        "elif DATASET == Semeval2010:\n",
        "    tokenizer = tk.tokenizers.nltk\n",
        "    DATASET_FOLDER = \"data/Semeval2010\"\n",
        "    MAX_DOCUMENT_LENGTH = 16600\n",
        "    MAX_VOCABULARY_SIZE = 50000\n",
        "    EMBEDDINGS_SIZE = 50\n",
        "    BATCH_SIZE = 16\n",
        "    EPOCHS = 40\n",
        "    KP_WEIGHT = 500\n",
        "    STEM_MODE = metrics.stemMode.results\n",
        "    STEM_TEST = True\n",
        "else:\n",
        "    raise NotImplementedError(\"Can't set the hyperparameters: unknown dataset\")\n",
        "\n",
        "# END PARAMETERS\n",
        "\n",
        "logging.info(\"Loading dataset...\")\n",
        "\n",
        "data = DATASET(DATASET_FOLDER)\n",
        "\n",
        "train_doc_str, train_answer_str = data.load_train()\n",
        "test_doc_str, test_answer_str = data.load_test()\n",
        "val_doc_str, val_answer_str = data.load_validation()\n",
        "\n",
        "train_doc, train_answer = tk.tokenize_set(train_doc_str, train_answer_str, tokenizer)\n",
        "test_doc, test_answer = tk.tokenize_set(test_doc_str, test_answer_str, tokenizer)\n",
        "val_doc, val_answer = tk.tokenize_set(val_doc_str, val_answer_str, tokenizer)\n",
        "\n",
        "# Sanity check\n",
        "# logging.info(\"Sanity check: %s\",metrics.precision(test_answer,test_answer))\n",
        "\n",
        "logging.info(\"Dataset loaded. Preprocessing data...\")\n",
        "\n",
        "train_x, train_y, test_x, test_y, val_x, val_y, embedding_matrix = preprocessing. \\\n",
        "    prepare_sequential(train_doc, train_answer, test_doc, test_answer, val_doc, val_answer,\n",
        "                       max_document_length=MAX_DOCUMENT_LENGTH,\n",
        "                       max_vocabulary_size=MAX_VOCABULARY_SIZE,\n",
        "                       embeddings_size=EMBEDDINGS_SIZE,\n",
        "                       stem_test=STEM_TEST)\n",
        "\n",
        "# weigh training examples: everything that's not class 0 (not kp)\n",
        "# gets a heavier score\n",
        "from sklearn.utils import class_weight\n",
        "\n",
        "train_y_weights = np.argmax(train_y, axis=2)\n",
        "train_y_weights = np.reshape(class_weight.compute_sample_weight('balanced', train_y_weights.flatten()),\n",
        "                             np.shape(train_y_weights))\n",
        "\n",
        "logging.info(\"Data preprocessing complete.\")\n",
        "logging.info(\"Maximum possible recall: %s\",\n",
        "             metrics.recall(test_answer,\n",
        "                            postprocessing.get_words(test_doc, postprocessing.undo_sequential(test_y)),\n",
        "                            STEM_MODE))\n",
        "\n",
        "if not SAVE_MODEL or not os.path.isfile(MODEL_PATH):\n",
        "\n",
        "    logging.debug(\"Building the network...\")\n",
        "    model = Sequential()\n",
        "\n",
        "    embedding_layer = Embedding(np.shape(embedding_matrix)[0],\n",
        "                                EMBEDDINGS_SIZE,\n",
        "                                weights=[embedding_matrix],\n",
        "                                input_length=MAX_DOCUMENT_LENGTH,\n",
        "                                trainable=False)\n",
        "\n",
        "    model.add(embedding_layer)\n",
        "    model.add(Bidirectional(LSTM(300, activation='tanh', recurrent_activation='hard_sigmoid', return_sequences=True)))\n",
        "    model.add(Dropout(0.25))\n",
        "    model.add(TimeDistributed(Dense(150, activation='relu', kernel_regularizer=regularizers.l2(0.01))))\n",
        "    model.add(Dropout(0.25))\n",
        "    model.add(TimeDistributed(Dense(3, activation='softmax')))\n",
        "\n",
        "    logging.info(\"Compiling the network...\")\n",
        "    model.compile(loss='categorical_crossentropy', optimizer='rmsprop', metrics=['accuracy'],\n",
        "                  sample_weight_mode=\"temporal\")\n",
        "    print(model.summary())\n",
        "\n",
        "    metrics_callback = keras_metrics.MetricsCallback(val_x, val_y)\n",
        "\n",
        "    logging.info(\"Fitting the network...\")\n",
        "\n",
        "    history = model.fit(train_x, train_y,\n",
        "                        validation_data=(val_x, val_y),\n",
        "                        epochs=EPOCHS,\n",
        "                        batch_size=BATCH_SIZE,\n",
        "                        sample_weight=train_y_weights,\n",
        "                        callbacks=[metrics_callback])\n",
        "\n",
        "    if SHOW_PLOTS:\n",
        "        plots.plot_accuracy(history)\n",
        "        plots.plot_loss(history)\n",
        "        plots.plot_prf(metrics_callback)\n",
        "\n",
        "    if SAVE_MODEL:\n",
        "        model.save(MODEL_PATH)\n",
        "        logging.info(\"Model saved in %s\", MODEL_PATH)\n",
        "\n",
        "else:\n",
        "    logging.info(\"Loading existing model from %s...\", MODEL_PATH)\n",
        "    model = load_model(MODEL_PATH)\n",
        "    logging.info(\"Completed loading model from file\")\n",
        "\n",
        "logging.info(\"Predicting on test set...\")\n",
        "output = model.predict(x=test_x, verbose=1)\n",
        "logging.debug(\"Shape of output array: %s\", np.shape(output))\n",
        "\n",
        "obtained_tokens = postprocessing.undo_sequential(output)\n",
        "obtained_words = postprocessing.get_words(test_doc, obtained_tokens)\n",
        "\n",
        "precision = metrics.precision(test_answer, obtained_words,STEM_MODE)\n",
        "recall = metrics.recall(test_answer, obtained_words,STEM_MODE)\n",
        "f1 = metrics.f1(precision, recall)\n",
        "\n",
        "print(\"###    Obtained Scores    ###\")\n",
        "print(\"###     (full dataset)    ###\")\n",
        "print(\"###\")\n",
        "print(\"### Precision : %.4f\" % precision)\n",
        "print(\"### Recall    : %.4f\" % recall)\n",
        "print(\"### F1        : %.4f\" % f1)\n",
        "print(\"###                       ###\")\n",
        "\n",
        "keras_precision = keras_metrics.keras_precision(test_y, output)\n",
        "keras_recall = keras_metrics.keras_recall(test_y, output)\n",
        "keras_f1 = keras_metrics.keras_f1(test_y, output)\n",
        "\n",
        "print(\"###    Obtained Scores    ###\")\n",
        "print(\"###    (fixed dataset)    ###\")\n",
        "print(\"###\")\n",
        "print(\"### Precision : %.4f\" % keras_precision)\n",
        "print(\"### Recall    : %.4f\" % keras_recall)\n",
        "print(\"### F1        : %.4f\" % keras_f1)\n",
        "print(\"###                       ###\")\n",
        "\n",
        "clean_words = postprocessing.get_valid_patterns(obtained_words)\n",
        "\n",
        "precision = metrics.precision(test_answer, clean_words,STEM_MODE)\n",
        "recall = metrics.recall(test_answer, clean_words,STEM_MODE)\n",
        "f1 = metrics.f1(precision, recall)\n",
        "\n",
        "print(\"###    Obtained Scores    ###\")\n",
        "print(\"### (full dataset,        ###\")\n",
        "print(\"###  pos patterns filter) ###\")\n",
        "print(\"###\")\n",
        "print(\"### Precision : %.4f\" % precision)\n",
        "print(\"### Recall    : %.4f\" % recall)\n",
        "print(\"### F1        : %.4f\" % f1)\n",
        "print(\"###                       ###\")\n",
        "\n",
        "obtained_words_top = postprocessing.get_top_words(test_doc, output, 5)\n",
        "\n",
        "precision_top = metrics.precision(test_answer, obtained_words_top,STEM_MODE)\n",
        "recall_top = metrics.recall(test_answer, obtained_words_top,STEM_MODE)\n",
        "f1_top = metrics.f1(precision_top, recall_top)\n",
        "\n",
        "print(\"###    Obtained Scores    ###\")\n",
        "print(\"### (full dataset, top 5) ###\")\n",
        "print(\"###\")\n",
        "print(\"### Precision : %.4f\" % precision_top)\n",
        "print(\"### Recall    : %.4f\" % recall_top)\n",
        "print(\"### F1        : %.4f\" % f1_top)\n",
        "print(\"###                       ###\")\n",
        "\n",
        "obtained_words_top = postprocessing.get_top_words(test_doc, output, 10)\n",
        "\n",
        "precision_top = metrics.precision(test_answer, obtained_words_top,STEM_MODE)\n",
        "recall_top = metrics.recall(test_answer, obtained_words_top,STEM_MODE)\n",
        "f1_top = metrics.f1(precision_top, recall_top)\n",
        "\n",
        "print(\"###    Obtained Scores    ###\")\n",
        "print(\"### (full dataset, top 10)###\")\n",
        "print(\"###\")\n",
        "print(\"### Precision : %.4f\" % precision_top)\n",
        "print(\"### Recall    : %.4f\" % recall_top)\n",
        "print(\"### F1        : %.4f\" % f1_top)\n",
        "print(\"###                       ###\")\n",
        "\n",
        "obtained_words_top = postprocessing.get_top_words(test_doc, output, 15)\n",
        "\n",
        "precision_top = metrics.precision(test_answer, obtained_words_top,STEM_MODE)\n",
        "recall_top = metrics.recall(test_answer, obtained_words_top,STEM_MODE)\n",
        "f1_top = metrics.f1(precision_top, recall_top)\n",
        "\n",
        "print(\"###    Obtained Scores    ###\")\n",
        "print(\"### (full dataset, top 15)###\")\n",
        "print(\"###\")\n",
        "print(\"### Precision : %.4f\" % precision_top)\n",
        "print(\"### Recall    : %.4f\" % recall_top)\n",
        "print(\"### F1        : %.4f\" % f1_top)\n",
        "print(\"###                       ###\")\n",
        "\n",
        "if DATASET == Semeval2017:\n",
        "    print(\"### SEMEVAL ANNOTATOR ###\")\n",
        "    print(\"###        All        ###\")\n",
        "\n",
        "    from eval import anno_generator\n",
        "\n",
        "    anno_generator.write_anno(\"/tmp/simplernn\", test_doc_str, obtained_words)\n",
        "    from data.Semeval2017 import eval\n",
        "\n",
        "    eval.calculateMeasures(\"data/Semeval2017/test\", \"/tmp/simplernn-all\", remove_anno=[\"types\"])\n",
        "\n",
        "    print(\"###     Filtered      ###\")\n",
        "    anno_generator.write_anno(\"/tmp/simplernn-clean\", test_doc_str, clean_words)\n",
        "    eval.calculateMeasures(\"data/Semeval2017/test\", \"/tmp/simplernn-clean\", remove_anno=[\"types\"])\n",
        "\n",
        "    print(\"###      Top 15       ###\")\n",
        "    anno_generator.write_anno(\"/tmp/simplernn-15\", test_doc_str, obtained_words_top)\n",
        "    eval.calculateMeasures(\"data/Semeval2017/test\", \"/tmp/simplernn-15\", remove_anno=[\"types\"])\n",
        "\n",
        "    print(\"###  Top 15 Filtered  ###\")\n",
        "    clean_words = postprocessing.get_valid_patterns(obtained_words_top)\n",
        "\n",
        "    anno_generator.write_anno(\"/tmp/simplernn-15-clean\", test_doc_str, clean_words)\n",
        "    eval.calculateMeasures(\"data/Semeval2017/test\", \"/tmp/simplernn-15-clean\", remove_anno=[\"types\"])"
      ],
      "execution_count": 0,
      "outputs": [
        {
          "output_type": "stream",
          "text": [
            "2019-12-30 21:37:08,669\tINFO\tKeras version 2.2.5\n",
            "2019-12-30 21:37:08,670\tINFO\tNumpy version 1.17.4\n",
            "2019-12-30 21:37:08,670\tINFO\tTensorflow version 1.15.0\n",
            "2019-12-30 21:37:08,672\tINFO\tLoading dataset...\n",
            "2019-12-30 21:37:08,673\tDEBUG\tInitialized dataset Bangla from folder data/Bangla\n",
            "2019-12-30 21:37:08,790\tDEBUG\tLoaded training set for dataset Bangla\n",
            "2019-12-30 21:37:08,896\tDEBUG\tLoaded test set for dataset Bangla\n",
            "2019-12-30 21:37:08,913\tDEBUG\tLoaded validation set for dataset Bangla\n",
            "2019-12-30 21:37:18,601\tINFO\tDataset loaded. Preprocessing data...\n",
            "2019-12-30 21:37:20,534\tDEBUG\tFitting dictionary on 3208 documents...\n",
            "2019-12-30 21:37:21,041\tDEBUG\tDictionary fitting completed. Found 58394 unique tokens\n",
            "2019-12-30 21:37:21,468\tDEBUG\tLongest training document : 1888 tokens\n",
            "2019-12-30 21:37:21,469\tDEBUG\tLongest test document :     1888 tokens\n",
            "2019-12-30 21:37:21,470\tDEBUG\tLongest validation document : 1550 tokens\n",
            "2019-12-30 21:37:21,967\tDEBUG\tTraining set samples size   : (1500, 550)\n",
            "2019-12-30 21:37:21,968\tDEBUG\tTraining set answers size   : (1500, 550, 3)\n",
            "2019-12-30 21:37:21,969\tDEBUG\tTest set samples size       : (1500, 550)\n",
            "2019-12-30 21:37:21,970\tDEBUG\tTest set answers size       : (1500, 550, 3) \n",
            "2019-12-30 21:37:21,971\tDEBUG\tValidation set samples size : (208, 550)\n",
            "2019-12-30 21:37:21,972\tDEBUG\tValidation set answers size : (208, 550, 3) \n",
            "2019-12-30 21:37:21,972\tDEBUG\tLoading GloVe pre-trained embeddings from glove.6B.300d.txt\n",
            "2019-12-30 21:37:46,550\tDEBUG\tTotal embeddings found: 400000.\n",
            "2019-12-30 21:37:46,551\tDEBUG\tBuilding embedding matrix of size [20000,300]...\n",
            "2019-12-30 21:37:47,098\tINFO\tData preprocessing complete.\n",
            "2019-12-30 21:37:47,473\tINFO\tMaximum possible recall: 0.3438434262671209\n",
            "2019-12-30 21:37:47,474\tDEBUG\tBuilding the network...\n"
          ],
          "name": "stderr"
        },
        {
          "output_type": "stream",
          "text": [
            "WARNING:tensorflow:From /usr/local/lib/python3.6/dist-packages/keras/backend/tensorflow_backend.py:66: The name tf.get_default_graph is deprecated. Please use tf.compat.v1.get_default_graph instead.\n",
            "\n"
          ],
          "name": "stdout"
        },
        {
          "output_type": "stream",
          "text": [
            "2019-12-30 21:37:47,475\tWARNING\tFrom /usr/local/lib/python3.6/dist-packages/keras/backend/tensorflow_backend.py:66: The name tf.get_default_graph is deprecated. Please use tf.compat.v1.get_default_graph instead.\n",
            "\n"
          ],
          "name": "stderr"
        },
        {
          "output_type": "stream",
          "text": [
            "WARNING:tensorflow:From /usr/local/lib/python3.6/dist-packages/keras/backend/tensorflow_backend.py:541: The name tf.placeholder is deprecated. Please use tf.compat.v1.placeholder instead.\n",
            "\n"
          ],
          "name": "stdout"
        },
        {
          "output_type": "stream",
          "text": [
            "2019-12-30 21:37:47,485\tWARNING\tFrom /usr/local/lib/python3.6/dist-packages/keras/backend/tensorflow_backend.py:541: The name tf.placeholder is deprecated. Please use tf.compat.v1.placeholder instead.\n",
            "\n"
          ],
          "name": "stderr"
        },
        {
          "output_type": "stream",
          "text": [
            "WARNING:tensorflow:From /usr/local/lib/python3.6/dist-packages/keras/backend/tensorflow_backend.py:4432: The name tf.random_uniform is deprecated. Please use tf.random.uniform instead.\n",
            "\n"
          ],
          "name": "stdout"
        },
        {
          "output_type": "stream",
          "text": [
            "2019-12-30 21:37:47,491\tWARNING\tFrom /usr/local/lib/python3.6/dist-packages/keras/backend/tensorflow_backend.py:4432: The name tf.random_uniform is deprecated. Please use tf.random.uniform instead.\n",
            "\n"
          ],
          "name": "stderr"
        },
        {
          "output_type": "stream",
          "text": [
            "WARNING:tensorflow:From /usr/local/lib/python3.6/dist-packages/keras/backend/tensorflow_backend.py:190: The name tf.get_default_session is deprecated. Please use tf.compat.v1.get_default_session instead.\n",
            "\n"
          ],
          "name": "stdout"
        },
        {
          "output_type": "stream",
          "text": [
            "2019-12-30 21:37:47,500\tWARNING\tFrom /usr/local/lib/python3.6/dist-packages/keras/backend/tensorflow_backend.py:190: The name tf.get_default_session is deprecated. Please use tf.compat.v1.get_default_session instead.\n",
            "\n"
          ],
          "name": "stderr"
        },
        {
          "output_type": "stream",
          "text": [
            "WARNING:tensorflow:From /usr/local/lib/python3.6/dist-packages/keras/backend/tensorflow_backend.py:197: The name tf.ConfigProto is deprecated. Please use tf.compat.v1.ConfigProto instead.\n",
            "\n"
          ],
          "name": "stdout"
        },
        {
          "output_type": "stream",
          "text": [
            "2019-12-30 21:37:47,502\tWARNING\tFrom /usr/local/lib/python3.6/dist-packages/keras/backend/tensorflow_backend.py:197: The name tf.ConfigProto is deprecated. Please use tf.compat.v1.ConfigProto instead.\n",
            "\n"
          ],
          "name": "stderr"
        },
        {
          "output_type": "stream",
          "text": [
            "WARNING:tensorflow:From /usr/local/lib/python3.6/dist-packages/keras/backend/tensorflow_backend.py:203: The name tf.Session is deprecated. Please use tf.compat.v1.Session instead.\n",
            "\n"
          ],
          "name": "stdout"
        },
        {
          "output_type": "stream",
          "text": [
            "2019-12-30 21:37:47,503\tWARNING\tFrom /usr/local/lib/python3.6/dist-packages/keras/backend/tensorflow_backend.py:203: The name tf.Session is deprecated. Please use tf.compat.v1.Session instead.\n",
            "\n"
          ],
          "name": "stderr"
        },
        {
          "output_type": "stream",
          "text": [
            "WARNING:tensorflow:From /usr/local/lib/python3.6/dist-packages/keras/backend/tensorflow_backend.py:207: The name tf.global_variables is deprecated. Please use tf.compat.v1.global_variables instead.\n",
            "\n"
          ],
          "name": "stdout"
        },
        {
          "output_type": "stream",
          "text": [
            "2019-12-30 21:37:48,918\tWARNING\tFrom /usr/local/lib/python3.6/dist-packages/keras/backend/tensorflow_backend.py:207: The name tf.global_variables is deprecated. Please use tf.compat.v1.global_variables instead.\n",
            "\n"
          ],
          "name": "stderr"
        },
        {
          "output_type": "stream",
          "text": [
            "WARNING:tensorflow:From /usr/local/lib/python3.6/dist-packages/keras/backend/tensorflow_backend.py:216: The name tf.is_variable_initialized is deprecated. Please use tf.compat.v1.is_variable_initialized instead.\n",
            "\n"
          ],
          "name": "stdout"
        },
        {
          "output_type": "stream",
          "text": [
            "2019-12-30 21:37:48,920\tWARNING\tFrom /usr/local/lib/python3.6/dist-packages/keras/backend/tensorflow_backend.py:216: The name tf.is_variable_initialized is deprecated. Please use tf.compat.v1.is_variable_initialized instead.\n",
            "\n"
          ],
          "name": "stderr"
        },
        {
          "output_type": "stream",
          "text": [
            "WARNING:tensorflow:From /usr/local/lib/python3.6/dist-packages/keras/backend/tensorflow_backend.py:223: The name tf.variables_initializer is deprecated. Please use tf.compat.v1.variables_initializer instead.\n",
            "\n"
          ],
          "name": "stdout"
        },
        {
          "output_type": "stream",
          "text": [
            "2019-12-30 21:37:49,010\tWARNING\tFrom /usr/local/lib/python3.6/dist-packages/keras/backend/tensorflow_backend.py:223: The name tf.variables_initializer is deprecated. Please use tf.compat.v1.variables_initializer instead.\n",
            "\n"
          ],
          "name": "stderr"
        },
        {
          "output_type": "stream",
          "text": [
            "WARNING:tensorflow:From /usr/local/lib/python3.6/dist-packages/keras/backend/tensorflow_backend.py:148: The name tf.placeholder_with_default is deprecated. Please use tf.compat.v1.placeholder_with_default instead.\n",
            "\n"
          ],
          "name": "stdout"
        },
        {
          "output_type": "stream",
          "text": [
            "2019-12-30 21:37:55,698\tWARNING\tFrom /usr/local/lib/python3.6/dist-packages/keras/backend/tensorflow_backend.py:148: The name tf.placeholder_with_default is deprecated. Please use tf.compat.v1.placeholder_with_default instead.\n",
            "\n"
          ],
          "name": "stderr"
        },
        {
          "output_type": "stream",
          "text": [
            "WARNING:tensorflow:From /usr/local/lib/python3.6/dist-packages/keras/backend/tensorflow_backend.py:3733: calling dropout (from tensorflow.python.ops.nn_ops) with keep_prob is deprecated and will be removed in a future version.\n",
            "Instructions for updating:\n",
            "Please use `rate` instead of `keep_prob`. Rate should be set to `rate = 1 - keep_prob`.\n"
          ],
          "name": "stdout"
        },
        {
          "output_type": "stream",
          "text": [
            "2019-12-30 21:37:55,708\tWARNING\tFrom /usr/local/lib/python3.6/dist-packages/keras/backend/tensorflow_backend.py:3733: calling dropout (from tensorflow.python.ops.nn_ops) with keep_prob is deprecated and will be removed in a future version.\n",
            "Instructions for updating:\n",
            "Please use `rate` instead of `keep_prob`. Rate should be set to `rate = 1 - keep_prob`.\n",
            "2019-12-30 21:37:55,756\tINFO\tCompiling the network...\n"
          ],
          "name": "stderr"
        },
        {
          "output_type": "stream",
          "text": [
            "WARNING:tensorflow:From /usr/local/lib/python3.6/dist-packages/keras/optimizers.py:793: The name tf.train.Optimizer is deprecated. Please use tf.compat.v1.train.Optimizer instead.\n",
            "\n"
          ],
          "name": "stdout"
        },
        {
          "output_type": "stream",
          "text": [
            "2019-12-30 21:37:55,756\tWARNING\tFrom /usr/local/lib/python3.6/dist-packages/keras/optimizers.py:793: The name tf.train.Optimizer is deprecated. Please use tf.compat.v1.train.Optimizer instead.\n",
            "\n"
          ],
          "name": "stderr"
        },
        {
          "output_type": "stream",
          "text": [
            "WARNING:tensorflow:From /usr/local/lib/python3.6/dist-packages/keras/backend/tensorflow_backend.py:3576: The name tf.log is deprecated. Please use tf.math.log instead.\n",
            "\n"
          ],
          "name": "stdout"
        },
        {
          "output_type": "stream",
          "text": [
            "2019-12-30 21:37:55,773\tWARNING\tFrom /usr/local/lib/python3.6/dist-packages/keras/backend/tensorflow_backend.py:3576: The name tf.log is deprecated. Please use tf.math.log instead.\n",
            "\n",
            "2019-12-30 21:37:55,790\tINFO\tFitting the network...\n"
          ],
          "name": "stderr"
        },
        {
          "output_type": "stream",
          "text": [
            "Model: \"sequential_1\"\n",
            "_________________________________________________________________\n",
            "Layer (type)                 Output Shape              Param #   \n",
            "=================================================================\n",
            "embedding_1 (Embedding)      (None, 550, 300)          6000000   \n",
            "_________________________________________________________________\n",
            "bidirectional_1 (Bidirection (None, 550, 600)          1442400   \n",
            "_________________________________________________________________\n",
            "dropout_1 (Dropout)          (None, 550, 600)          0         \n",
            "_________________________________________________________________\n",
            "time_distributed_1 (TimeDist (None, 550, 150)          90150     \n",
            "_________________________________________________________________\n",
            "dropout_2 (Dropout)          (None, 550, 150)          0         \n",
            "_________________________________________________________________\n",
            "time_distributed_2 (TimeDist (None, 550, 3)            453       \n",
            "=================================================================\n",
            "Total params: 7,533,003\n",
            "Trainable params: 1,533,003\n",
            "Non-trainable params: 6,000,000\n",
            "_________________________________________________________________\n",
            "None\n",
            "WARNING:tensorflow:From /usr/local/lib/python3.6/dist-packages/tensorflow_core/python/ops/math_grad.py:1424: where (from tensorflow.python.ops.array_ops) is deprecated and will be removed in a future version.\n",
            "Instructions for updating:\n",
            "Use tf.where in 2.0, which has the same broadcast rule as np.where\n"
          ],
          "name": "stdout"
        },
        {
          "output_type": "stream",
          "text": [
            "2019-12-30 21:37:55,881\tWARNING\tFrom /usr/local/lib/python3.6/dist-packages/tensorflow_core/python/ops/math_grad.py:1424: where (from tensorflow.python.ops.array_ops) is deprecated and will be removed in a future version.\n",
            "Instructions for updating:\n",
            "Use tf.where in 2.0, which has the same broadcast rule as np.where\n"
          ],
          "name": "stderr"
        },
        {
          "output_type": "stream",
          "text": [
            "WARNING:tensorflow:From /usr/local/lib/python3.6/dist-packages/keras/backend/tensorflow_backend.py:1033: The name tf.assign_add is deprecated. Please use tf.compat.v1.assign_add instead.\n",
            "\n"
          ],
          "name": "stdout"
        },
        {
          "output_type": "stream",
          "text": [
            "2019-12-30 21:37:56,881\tWARNING\tFrom /usr/local/lib/python3.6/dist-packages/keras/backend/tensorflow_backend.py:1033: The name tf.assign_add is deprecated. Please use tf.compat.v1.assign_add instead.\n",
            "\n"
          ],
          "name": "stderr"
        },
        {
          "output_type": "stream",
          "text": [
            "WARNING:tensorflow:From /usr/local/lib/python3.6/dist-packages/keras/backend/tensorflow_backend.py:1020: The name tf.assign is deprecated. Please use tf.compat.v1.assign instead.\n",
            "\n"
          ],
          "name": "stdout"
        },
        {
          "output_type": "stream",
          "text": [
            "2019-12-30 21:37:56,889\tWARNING\tFrom /usr/local/lib/python3.6/dist-packages/keras/backend/tensorflow_backend.py:1020: The name tf.assign is deprecated. Please use tf.compat.v1.assign instead.\n",
            "\n"
          ],
          "name": "stderr"
        },
        {
          "output_type": "stream",
          "text": [
            "Train on 1500 samples, validate on 208 samples\n",
            "Epoch 1/28\n",
            "1500/1500 [==============================] - 73s 48ms/step - loss: 2.0375 - acc: 0.5743 - val_loss: 1.2244 - val_acc: 0.9106\n",
            "\n",
            "###   Validation Scores   ###\n",
            "###\n",
            "### Epoch     : 1\n",
            "### Precision : 0.0895\n",
            "### Recall    : 0.0584\n",
            "### F1        : 0.0707\n",
            "###                       ###\n",
            "Epoch 2/28\n",
            "1500/1500 [==============================] - 71s 48ms/step - loss: 1.2212 - acc: 0.3268 - val_loss: 1.1437 - val_acc: 0.0383\n",
            "\n",
            "###   Validation Scores   ###\n",
            "###\n",
            "### Epoch     : 2\n",
            "### Precision : 0.0295\n",
            "### Recall    : 0.8698\n",
            "### F1        : 0.0570\n",
            "###                       ###\n",
            "Epoch 3/28\n",
            "1500/1500 [==============================] - 70s 47ms/step - loss: 1.1082 - acc: 0.4002 - val_loss: 1.0608 - val_acc: 0.7806\n",
            "\n",
            "###   Validation Scores   ###\n",
            "###\n",
            "### Epoch     : 3\n",
            "### Precision : 0.0777\n",
            "### Recall    : 0.0262\n",
            "### F1        : 0.0392\n",
            "###                       ###\n",
            "Epoch 4/28\n",
            "1500/1500 [==============================] - 70s 47ms/step - loss: 1.1001 - acc: 0.3930 - val_loss: 1.1085 - val_acc: 0.0282\n",
            "\n",
            "###   Validation Scores   ###\n",
            "###\n",
            "### Epoch     : 4\n",
            "### Precision : 0.0352\n",
            "### Recall    : 0.0060\n",
            "### F1        : 0.0103\n",
            "###                       ###\n",
            "Epoch 5/28\n",
            "1500/1500 [==============================] - 70s 46ms/step - loss: 1.0971 - acc: 0.6765 - val_loss: 0.9748 - val_acc: 0.8647\n",
            "\n",
            "###   Validation Scores   ###\n",
            "###\n",
            "### Epoch     : 5\n",
            "### Precision : 0.0643\n",
            "### Recall    : 0.1499\n",
            "### F1        : 0.0900\n",
            "###                       ###\n",
            "Epoch 6/28\n",
            "1500/1500 [==============================] - 70s 47ms/step - loss: 1.0961 - acc: 0.4496 - val_loss: 0.9292 - val_acc: 0.7756\n",
            "\n",
            "###   Validation Scores   ###\n",
            "###\n",
            "### Epoch     : 6\n",
            "### Precision : 0.0845\n",
            "### Recall    : 0.0739\n",
            "### F1        : 0.0788\n",
            "###                       ###\n",
            "Epoch 7/28\n",
            "1500/1500 [==============================] - 71s 47ms/step - loss: 1.1002 - acc: 0.5007 - val_loss: 1.0438 - val_acc: 0.8685\n",
            "\n",
            "###   Validation Scores   ###\n",
            "###\n",
            "### Epoch     : 7\n",
            "### Precision : 0.0692\n",
            "### Recall    : 0.1263\n",
            "### F1        : 0.0894\n",
            "###                       ###\n",
            "Epoch 8/28\n",
            " 288/1500 [====>.........................] - ETA: 53s - loss: 1.1205 - acc: 0.7196"
          ],
          "name": "stdout"
        }
      ]
    },
    {
      "cell_type": "code",
      "metadata": {
        "id": "Yj8qMHFT2r0I",
        "colab_type": "code",
        "colab": {}
      },
      "source": [
        ""
      ],
      "execution_count": 0,
      "outputs": []
    }
  ]
}